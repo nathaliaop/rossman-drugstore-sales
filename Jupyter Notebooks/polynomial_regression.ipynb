{
 "cells": [
  {
   "cell_type": "code",
   "execution_count": 1,
   "id": "c1f705c2",
   "metadata": {},
   "outputs": [],
   "source": [
    "import numpy as np\n",
    "import pandas as pd\n",
    "\n",
    "from sklearn.model_selection import train_test_split\n",
    "from sklearn.preprocessing import PolynomialFeatures\n",
    "from sklearn.linear_model import LinearRegression\n",
    "from sklearn.metrics import r2_score\n",
    "import seaborn as sns"
   ]
  },
  {
   "cell_type": "markdown",
   "id": "d9ca7d59",
   "metadata": {},
   "source": [
    "# Importing the dataset"
   ]
  },
  {
   "cell_type": "code",
   "execution_count": 2,
   "id": "dbbe1926",
   "metadata": {},
   "outputs": [],
   "source": [
    "def get_data(data):\n",
    "    dataset = pd.read_csv(data)\n",
    "    X = dataset.drop(columns=['Sales'], axis=1).values\n",
    "    y = pd.DataFrame(data=dataset['Sales']).values\n",
    "    \n",
    "    return X, y"
   ]
  },
  {
   "cell_type": "markdown",
   "id": "5621327c",
   "metadata": {},
   "source": [
    "# Spliting into train and test"
   ]
  },
  {
   "cell_type": "code",
   "execution_count": 3,
   "id": "59301b1a",
   "metadata": {},
   "outputs": [],
   "source": [
    "def split_train_test(X, y):\n",
    "    X_train, X_test, y_train, y_test = train_test_split(X, y, test_size = 0.2, random_state = 1)\n",
    "    \n",
    "    return X_train, X_test, y_train, y_test"
   ]
  },
  {
   "cell_type": "markdown",
   "id": "f443afca",
   "metadata": {},
   "source": [
    "# Training the Multiple Linear Regression model on the Training set"
   ]
  },
  {
   "cell_type": "code",
   "execution_count": 4,
   "id": "0bdae770",
   "metadata": {},
   "outputs": [],
   "source": [
    "def polynomial_regression(X_train, y_train):\n",
    "    poly_reg = PolynomialFeatures(degree = 2)\n",
    "    X_poly = poly_reg.fit_transform(X_train)\n",
    "    regressor = LinearRegression()\n",
    "    regressor.fit(X_poly, y_train)\n",
    "    \n",
    "    return regressor, poly_reg"
   ]
  },
  {
   "cell_type": "markdown",
   "id": "e95d2d72",
   "metadata": {},
   "source": [
    "# Evaluating the Model Performance"
   ]
  },
  {
   "cell_type": "code",
   "execution_count": 5,
   "id": "7edd8288",
   "metadata": {},
   "outputs": [],
   "source": [
    "def evaluate(y_test, y_pred):\n",
    "    y_test = np.array(y_test, dtype=float)\n",
    "    \n",
    "    return r2_score(y_test, y_pred)"
   ]
  },
  {
   "cell_type": "markdown",
   "id": "4e090359",
   "metadata": {},
   "source": [
    "# Exporting the results to csv"
   ]
  },
  {
   "cell_type": "code",
   "execution_count": 6,
   "id": "46c2f7c8",
   "metadata": {},
   "outputs": [],
   "source": [
    "def organize_prediction(X_pred, y_pred):\n",
    "    y_pred= pd.DataFrame(data=y_pred, columns=['Sales'])\n",
    "    y_pred = pd.concat([X_pred, y_pred], axis = 1)\n",
    "\n",
    "    return y_pred"
   ]
  },
  {
   "cell_type": "code",
   "execution_count": 7,
   "id": "0c651cae",
   "metadata": {},
   "outputs": [],
   "source": [
    "def export_result(y_pred, file_name):\n",
    "    result = pd.concat([X_pred, y_pred], axis=1)\n",
    "    result.to_csv(file_name)\n",
    "    \n",
    "    return None"
   ]
  },
  {
   "cell_type": "markdown",
   "id": "47748b22",
   "metadata": {},
   "source": [
    "# Visualize results"
   ]
  },
  {
   "cell_type": "code",
   "execution_count": 8,
   "id": "3e15460f",
   "metadata": {},
   "outputs": [],
   "source": [
    "def plot_graph(y_pred, y_test, y_result):\n",
    "    new_dataset = y_pred[['Year','Sales', 'Day', 'Month']].groupby(['Year', 'Day', 'Month']).sum().reset_index()\n",
    "    fig = sns.lineplot(data=new_dataset[(new_dataset['Year'] == 2015) & (new_dataset['Month'] == 8)], x=\"Day\", y=\"Sales\")\n",
    "    fig.set_title('Accuracy {:.10f}%'.format(evaluate(y_test, y_result)))\n",
    "    \n",
    "    return None"
   ]
  },
  {
   "cell_type": "markdown",
   "id": "724982d0",
   "metadata": {},
   "source": [
    "# ETL"
   ]
  },
  {
   "cell_type": "code",
   "execution_count": 9,
   "id": "cfdba737",
   "metadata": {},
   "outputs": [
    {
     "data": {
      "image/png": "[encoded data removed]",
      "text/plain": [
       "<Figure size 432x288 with 1 Axes>"
      ]
     },
     "metadata": {
      "needs_background": "light"
     },
     "output_type": "display_data"
    }
   ],
   "source": [
    "if __name__ == '__main__':\n",
    "    # get data\n",
    "    X, y = get_data('../preprocessed_data/data.csv')\n",
    "    X_pred = pd.read_csv('../preprocessed_data/X_pred.csv')\n",
    "    \n",
    "    # split train and test\n",
    "    X_train, X_test, y_train, y_test = split_train_test(X, y)\n",
    "    \n",
    "    # train\n",
    "    regressor, poly_reg = polynomial_regression(X_train, y_train)\n",
    "    \n",
    "    # predict\n",
    "    y_result = regressor.predict(poly_reg.transform(X_test))\n",
    "    y_pred = regressor.predict(poly_reg.transform(X_pred))\n",
    "    \n",
    "    # visualize\n",
    "    y_pred = organize_prediction(X_pred, y_pred)\n",
    "    # export_result(y_pred, '../result_data/polynomial_regression.csv')\n",
    "    plot_graph(y_pred, y_test, y_result)"
   ]
  },
  {
   "cell_type": "code",
   "execution_count": null,
   "id": "8e14c96b",
   "metadata": {},
   "outputs": [],
   "source": []
  }
 ],
 "metadata": {
  "kernelspec": {
   "display_name": "Python 3 (ipykernel)",
   "language": "python",
   "name": "python3"
  },
  "language_info": {
   "codemirror_mode": {
    "name": "ipython",
    "version": 3
   },
   "file_extension": ".py",
   "mimetype": "text/x-python",
   "name": "python",
   "nbconvert_exporter": "python",
   "pygments_lexer": "ipython3",
   "version": "3.9.7"
  }
 },
 "nbformat": 4,
 "nbformat_minor": 5
}
